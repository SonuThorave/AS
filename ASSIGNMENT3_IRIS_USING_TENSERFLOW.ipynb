{
  "nbformat": 4,
  "nbformat_minor": 0,
  "metadata": {
    "colab": {
      "name": "ASSIGNMENT3_IRIS_USING_TENSERFLOW.ipynb",
      "provenance": [],
      "collapsed_sections": [],
      "authorship_tag": "ABX9TyMQElsg3K8S6Y/Xs8bKrmLV",
      "include_colab_link": true
    },
    "kernelspec": {
      "name": "python3",
      "display_name": "Python 3"
    },
    "language_info": {
      "name": "python"
    }
  },
  "cells": [
    {
      "cell_type": "markdown",
      "metadata": {
        "id": "view-in-github",
        "colab_type": "text"
      },
      "source": [
        "<a href=\"https://colab.research.google.com/github/SonuThorave/AS/blob/main/ASSIGNMENT3_IRIS_USING_TENSERFLOW.ipynb\" target=\"_parent\"><img src=\"https://colab.research.google.com/assets/colab-badge.svg\" alt=\"Open In Colab\"/></a>"
      ]
    },
    {
      "cell_type": "code",
      "execution_count": 3,
      "metadata": {
        "id": "aP_YQRIxBVLh"
      },
      "outputs": [],
      "source": [
        "import tensorflow as tf\n",
        "from tensorflow.keras import layers\n",
        "import pandas as pd\n",
        "import numpy as np\n",
        "from tensorflow.keras import datasets, layers, models\n",
        "from tensorflow.keras.utils import to_categorical\n",
        "from sklearn.datasets import load_iris"
      ]
    },
    {
      "cell_type": "code",
      "source": [
        "dataset=load_iris()"
      ],
      "metadata": {
        "id": "uxqPbdjzB5aT"
      },
      "execution_count": 4,
      "outputs": []
    },
    {
      "cell_type": "code",
      "source": [
        "df=pd.DataFrame(dataset['data'],columns=dataset['feature_names'])\n",
        "df['Species']=dataset['target']\n",
        "df['Species']=df['Species'].apply(lambda x:dataset['target_names'][x])\n",
        "df.head()"
      ],
      "metadata": {
        "colab": {
          "base_uri": "https://localhost:8080/",
          "height": 206
        },
        "id": "Vf9O6svWB_K3",
        "outputId": "fba1d2c9-455f-4797-c2cf-d31c73414f3e"
      },
      "execution_count": 15,
      "outputs": [
        {
          "output_type": "execute_result",
          "data": {
            "text/html": [
              "\n",
              "  <div id=\"df-b9b3c5ed-be63-4c1e-bac7-22ffab9c5445\">\n",
              "    <div class=\"colab-df-container\">\n",
              "      <div>\n",
              "<style scoped>\n",
              "    .dataframe tbody tr th:only-of-type {\n",
              "        vertical-align: middle;\n",
              "    }\n",
              "\n",
              "    .dataframe tbody tr th {\n",
              "        vertical-align: top;\n",
              "    }\n",
              "\n",
              "    .dataframe thead th {\n",
              "        text-align: right;\n",
              "    }\n",
              "</style>\n",
              "<table border=\"1\" class=\"dataframe\">\n",
              "  <thead>\n",
              "    <tr style=\"text-align: right;\">\n",
              "      <th></th>\n",
              "      <th>sepal length (cm)</th>\n",
              "      <th>sepal width (cm)</th>\n",
              "      <th>petal length (cm)</th>\n",
              "      <th>petal width (cm)</th>\n",
              "      <th>Species</th>\n",
              "    </tr>\n",
              "  </thead>\n",
              "  <tbody>\n",
              "    <tr>\n",
              "      <th>0</th>\n",
              "      <td>5.1</td>\n",
              "      <td>3.5</td>\n",
              "      <td>1.4</td>\n",
              "      <td>0.2</td>\n",
              "      <td>setosa</td>\n",
              "    </tr>\n",
              "    <tr>\n",
              "      <th>1</th>\n",
              "      <td>4.9</td>\n",
              "      <td>3.0</td>\n",
              "      <td>1.4</td>\n",
              "      <td>0.2</td>\n",
              "      <td>setosa</td>\n",
              "    </tr>\n",
              "    <tr>\n",
              "      <th>2</th>\n",
              "      <td>4.7</td>\n",
              "      <td>3.2</td>\n",
              "      <td>1.3</td>\n",
              "      <td>0.2</td>\n",
              "      <td>setosa</td>\n",
              "    </tr>\n",
              "    <tr>\n",
              "      <th>3</th>\n",
              "      <td>4.6</td>\n",
              "      <td>3.1</td>\n",
              "      <td>1.5</td>\n",
              "      <td>0.2</td>\n",
              "      <td>setosa</td>\n",
              "    </tr>\n",
              "    <tr>\n",
              "      <th>4</th>\n",
              "      <td>5.0</td>\n",
              "      <td>3.6</td>\n",
              "      <td>1.4</td>\n",
              "      <td>0.2</td>\n",
              "      <td>setosa</td>\n",
              "    </tr>\n",
              "  </tbody>\n",
              "</table>\n",
              "</div>\n",
              "      <button class=\"colab-df-convert\" onclick=\"convertToInteractive('df-b9b3c5ed-be63-4c1e-bac7-22ffab9c5445')\"\n",
              "              title=\"Convert this dataframe to an interactive table.\"\n",
              "              style=\"display:none;\">\n",
              "        \n",
              "  <svg xmlns=\"http://www.w3.org/2000/svg\" height=\"24px\"viewBox=\"0 0 24 24\"\n",
              "       width=\"24px\">\n",
              "    <path d=\"M0 0h24v24H0V0z\" fill=\"none\"/>\n",
              "    <path d=\"M18.56 5.44l.94 2.06.94-2.06 2.06-.94-2.06-.94-.94-2.06-.94 2.06-2.06.94zm-11 1L8.5 8.5l.94-2.06 2.06-.94-2.06-.94L8.5 2.5l-.94 2.06-2.06.94zm10 10l.94 2.06.94-2.06 2.06-.94-2.06-.94-.94-2.06-.94 2.06-2.06.94z\"/><path d=\"M17.41 7.96l-1.37-1.37c-.4-.4-.92-.59-1.43-.59-.52 0-1.04.2-1.43.59L10.3 9.45l-7.72 7.72c-.78.78-.78 2.05 0 2.83L4 21.41c.39.39.9.59 1.41.59.51 0 1.02-.2 1.41-.59l7.78-7.78 2.81-2.81c.8-.78.8-2.07 0-2.86zM5.41 20L4 18.59l7.72-7.72 1.47 1.35L5.41 20z\"/>\n",
              "  </svg>\n",
              "      </button>\n",
              "      \n",
              "  <style>\n",
              "    .colab-df-container {\n",
              "      display:flex;\n",
              "      flex-wrap:wrap;\n",
              "      gap: 12px;\n",
              "    }\n",
              "\n",
              "    .colab-df-convert {\n",
              "      background-color: #E8F0FE;\n",
              "      border: none;\n",
              "      border-radius: 50%;\n",
              "      cursor: pointer;\n",
              "      display: none;\n",
              "      fill: #1967D2;\n",
              "      height: 32px;\n",
              "      padding: 0 0 0 0;\n",
              "      width: 32px;\n",
              "    }\n",
              "\n",
              "    .colab-df-convert:hover {\n",
              "      background-color: #E2EBFA;\n",
              "      box-shadow: 0px 1px 2px rgba(60, 64, 67, 0.3), 0px 1px 3px 1px rgba(60, 64, 67, 0.15);\n",
              "      fill: #174EA6;\n",
              "    }\n",
              "\n",
              "    [theme=dark] .colab-df-convert {\n",
              "      background-color: #3B4455;\n",
              "      fill: #D2E3FC;\n",
              "    }\n",
              "\n",
              "    [theme=dark] .colab-df-convert:hover {\n",
              "      background-color: #434B5C;\n",
              "      box-shadow: 0px 1px 3px 1px rgba(0, 0, 0, 0.15);\n",
              "      filter: drop-shadow(0px 1px 2px rgba(0, 0, 0, 0.3));\n",
              "      fill: #FFFFFF;\n",
              "    }\n",
              "  </style>\n",
              "\n",
              "      <script>\n",
              "        const buttonEl =\n",
              "          document.querySelector('#df-b9b3c5ed-be63-4c1e-bac7-22ffab9c5445 button.colab-df-convert');\n",
              "        buttonEl.style.display =\n",
              "          google.colab.kernel.accessAllowed ? 'block' : 'none';\n",
              "\n",
              "        async function convertToInteractive(key) {\n",
              "          const element = document.querySelector('#df-b9b3c5ed-be63-4c1e-bac7-22ffab9c5445');\n",
              "          const dataTable =\n",
              "            await google.colab.kernel.invokeFunction('convertToInteractive',\n",
              "                                                     [key], {});\n",
              "          if (!dataTable) return;\n",
              "\n",
              "          const docLinkHtml = 'Like what you see? Visit the ' +\n",
              "            '<a target=\"_blank\" href=https://colab.research.google.com/notebooks/data_table.ipynb>data table notebook</a>'\n",
              "            + ' to learn more about interactive tables.';\n",
              "          element.innerHTML = '';\n",
              "          dataTable['output_type'] = 'display_data';\n",
              "          await google.colab.output.renderOutput(dataTable, element);\n",
              "          const docLink = document.createElement('div');\n",
              "          docLink.innerHTML = docLinkHtml;\n",
              "          element.appendChild(docLink);\n",
              "        }\n",
              "      </script>\n",
              "    </div>\n",
              "  </div>\n",
              "  "
            ],
            "text/plain": [
              "   sepal length (cm)  sepal width (cm)  ...  petal width (cm)  Species\n",
              "0                5.1               3.5  ...               0.2   setosa\n",
              "1                4.9               3.0  ...               0.2   setosa\n",
              "2                4.7               3.2  ...               0.2   setosa\n",
              "3                4.6               3.1  ...               0.2   setosa\n",
              "4                5.0               3.6  ...               0.2   setosa\n",
              "\n",
              "[5 rows x 5 columns]"
            ]
          },
          "metadata": {},
          "execution_count": 15
        }
      ]
    },
    {
      "cell_type": "code",
      "source": [
        "X = df.iloc[:,0:3].values\n",
        "y = df.iloc[:,4:].values"
      ],
      "metadata": {
        "id": "4pvKTmA5DGK8"
      },
      "execution_count": 16,
      "outputs": []
    },
    {
      "cell_type": "code",
      "source": [
        "print(X[0:5])\n",
        "print(y[0:5])"
      ],
      "metadata": {
        "colab": {
          "base_uri": "https://localhost:8080/"
        },
        "id": "JW1-DhEFDIgR",
        "outputId": "fd380865-705c-472d-91d6-c93b5b257232"
      },
      "execution_count": 18,
      "outputs": [
        {
          "output_type": "stream",
          "name": "stdout",
          "text": [
            "[[5.1 3.5 1.4]\n",
            " [4.9 3.  1.4]\n",
            " [4.7 3.2 1.3]\n",
            " [4.6 3.1 1.5]\n",
            " [5.  3.6 1.4]]\n",
            "[['setosa']\n",
            " ['setosa']\n",
            " ['setosa']\n",
            " ['setosa']\n",
            " ['setosa']]\n"
          ]
        }
      ]
    },
    {
      "cell_type": "code",
      "source": [
        "print(X.shape)\n",
        "print(y.shape)"
      ],
      "metadata": {
        "colab": {
          "base_uri": "https://localhost:8080/"
        },
        "id": "fVDDo1FiDbFK",
        "outputId": "07c94724-6c87-4941-f63f-da7600e1507c"
      },
      "execution_count": 19,
      "outputs": [
        {
          "output_type": "stream",
          "name": "stdout",
          "text": [
            "(150, 3)\n",
            "(150, 1)\n"
          ]
        }
      ]
    },
    {
      "cell_type": "code",
      "source": [
        "from sklearn.preprocessing import LabelEncoder\n",
        "encoder =  LabelEncoder()\n",
        "y1 = encoder.fit_transform(y)"
      ],
      "metadata": {
        "colab": {
          "base_uri": "https://localhost:8080/"
        },
        "id": "abXb0WynEsGa",
        "outputId": "1a3403a8-dc54-444b-9ad5-b0a9e53166e9"
      },
      "execution_count": 20,
      "outputs": [
        {
          "output_type": "stream",
          "name": "stderr",
          "text": [
            "/usr/local/lib/python3.7/dist-packages/sklearn/preprocessing/_label.py:115: DataConversionWarning: A column-vector y was passed when a 1d array was expected. Please change the shape of y to (n_samples, ), for example using ravel().\n",
            "  y = column_or_1d(y, warn=True)\n"
          ]
        }
      ]
    },
    {
      "cell_type": "code",
      "source": [
        "print(y1)"
      ],
      "metadata": {
        "colab": {
          "base_uri": "https://localhost:8080/"
        },
        "id": "uG2p1M44HC7u",
        "outputId": "35ef98d9-ef7f-4406-c54e-f8b9e2565d5c"
      },
      "execution_count": 21,
      "outputs": [
        {
          "output_type": "stream",
          "name": "stdout",
          "text": [
            "[0 0 0 0 0 0 0 0 0 0 0 0 0 0 0 0 0 0 0 0 0 0 0 0 0 0 0 0 0 0 0 0 0 0 0 0 0\n",
            " 0 0 0 0 0 0 0 0 0 0 0 0 0 1 1 1 1 1 1 1 1 1 1 1 1 1 1 1 1 1 1 1 1 1 1 1 1\n",
            " 1 1 1 1 1 1 1 1 1 1 1 1 1 1 1 1 1 1 1 1 1 1 1 1 1 1 2 2 2 2 2 2 2 2 2 2 2\n",
            " 2 2 2 2 2 2 2 2 2 2 2 2 2 2 2 2 2 2 2 2 2 2 2 2 2 2 2 2 2 2 2 2 2 2 2 2 2\n",
            " 2 2]\n"
          ]
        }
      ]
    },
    {
      "cell_type": "code",
      "source": [
        "Y = pd.get_dummies(y1).values\n",
        "print(Y[0:5])"
      ],
      "metadata": {
        "colab": {
          "base_uri": "https://localhost:8080/"
        },
        "id": "C5OKr5VEHGqn",
        "outputId": "4b6852cd-4701-45be-d076-77dfce9631f4"
      },
      "execution_count": 22,
      "outputs": [
        {
          "output_type": "stream",
          "name": "stdout",
          "text": [
            "[[1 0 0]\n",
            " [1 0 0]\n",
            " [1 0 0]\n",
            " [1 0 0]\n",
            " [1 0 0]]\n"
          ]
        }
      ]
    },
    {
      "cell_type": "code",
      "source": [
        "from sklearn.model_selection import train_test_split\n",
        "X_train, X_test, y_train, y_test = train_test_split(X, Y, test_size=0.2, random_state=0)"
      ],
      "metadata": {
        "id": "EaanpF3kHLkF"
      },
      "execution_count": 24,
      "outputs": []
    },
    {
      "cell_type": "code",
      "source": [
        "print(X_train[0:5])"
      ],
      "metadata": {
        "colab": {
          "base_uri": "https://localhost:8080/"
        },
        "id": "aBd6zinXHPXB",
        "outputId": "43393069-06d2-4339-e299-9523fdfb8cb5"
      },
      "execution_count": 25,
      "outputs": [
        {
          "output_type": "stream",
          "name": "stdout",
          "text": [
            "[[6.4 3.1 5.5]\n",
            " [5.4 3.  4.5]\n",
            " [5.2 3.5 1.5]\n",
            " [6.1 3.  4.9]\n",
            " [6.4 2.8 5.6]]\n"
          ]
        }
      ]
    },
    {
      "cell_type": "code",
      "source": [
        "print(y_train[0:5])"
      ],
      "metadata": {
        "colab": {
          "base_uri": "https://localhost:8080/"
        },
        "id": "1Ot0TRnWHZ6i",
        "outputId": "9fabe449-2d74-49e7-b73d-a41d6466c204"
      },
      "execution_count": 26,
      "outputs": [
        {
          "output_type": "stream",
          "name": "stdout",
          "text": [
            "[[0 0 1]\n",
            " [0 1 0]\n",
            " [1 0 0]\n",
            " [0 0 1]\n",
            " [0 0 1]]\n"
          ]
        }
      ]
    },
    {
      "cell_type": "code",
      "source": [
        "print(X_test[0:5])"
      ],
      "metadata": {
        "colab": {
          "base_uri": "https://localhost:8080/"
        },
        "id": "adCggf4lHdat",
        "outputId": "057d6a8f-40d8-4d14-97e6-7db09ca87314"
      },
      "execution_count": 27,
      "outputs": [
        {
          "output_type": "stream",
          "name": "stdout",
          "text": [
            "[[5.8 2.8 5.1]\n",
            " [6.  2.2 4. ]\n",
            " [5.5 4.2 1.4]\n",
            " [7.3 2.9 6.3]\n",
            " [5.  3.4 1.5]]\n"
          ]
        }
      ]
    },
    {
      "cell_type": "code",
      "source": [
        "print(y_test[0:5])"
      ],
      "metadata": {
        "colab": {
          "base_uri": "https://localhost:8080/"
        },
        "id": "j2c2VURUHhxB",
        "outputId": "1c363fb1-3697-4069-e431-40289d2d48b6"
      },
      "execution_count": 28,
      "outputs": [
        {
          "output_type": "stream",
          "name": "stdout",
          "text": [
            "[[0 0 1]\n",
            " [0 1 0]\n",
            " [1 0 0]\n",
            " [0 0 1]\n",
            " [1 0 0]]\n"
          ]
        }
      ]
    },
    {
      "cell_type": "code",
      "source": [
        "model = tf.keras.Sequential([\n",
        "    tf.keras.layers.Dense(10, activation='relu'),\n",
        "    tf.keras.layers.Dense(10, activation='relu'),\n",
        "    tf.keras.layers.Dense(3)\n",
        "  ])\n",
        "model"
      ],
      "metadata": {
        "colab": {
          "base_uri": "https://localhost:8080/"
        },
        "id": "vZHTPqO7H5KE",
        "outputId": "3309b624-2982-403b-c5e0-659516db67d5"
      },
      "execution_count": 29,
      "outputs": [
        {
          "output_type": "execute_result",
          "data": {
            "text/plain": [
              "<keras.engine.sequential.Sequential at 0x7f3815c66250>"
            ]
          },
          "metadata": {},
          "execution_count": 29
        }
      ]
    },
    {
      "cell_type": "code",
      "source": [
        "model.compile(optimizer='rmsprop',\n",
        "              loss='categorical_crossentropy',\n",
        "              metrics=['accuracy'])"
      ],
      "metadata": {
        "id": "UO1IdGkaILLH"
      },
      "execution_count": 30,
      "outputs": []
    },
    {
      "cell_type": "code",
      "source": [
        "model.fit(X_train, y_train, batch_size=50, epochs=100)"
      ],
      "metadata": {
        "colab": {
          "base_uri": "https://localhost:8080/"
        },
        "id": "0rxujM2TIMpL",
        "outputId": "af5633fa-bc30-43a0-f2a6-c435f57d0f77"
      },
      "execution_count": 31,
      "outputs": [
        {
          "output_type": "stream",
          "name": "stdout",
          "text": [
            "Epoch 1/100\n",
            "3/3 [==============================] - 1s 4ms/step - loss: 5.9478 - accuracy: 0.3667\n",
            "Epoch 2/100\n",
            "3/3 [==============================] - 0s 4ms/step - loss: 5.7768 - accuracy: 0.3667\n",
            "Epoch 3/100\n",
            "3/3 [==============================] - 0s 4ms/step - loss: 5.6416 - accuracy: 0.3667\n",
            "Epoch 4/100\n",
            "3/3 [==============================] - 0s 3ms/step - loss: 5.5070 - accuracy: 0.3667\n",
            "Epoch 5/100\n",
            "3/3 [==============================] - 0s 4ms/step - loss: 5.5070 - accuracy: 0.3667\n",
            "Epoch 6/100\n",
            "3/3 [==============================] - 0s 3ms/step - loss: 5.5070 - accuracy: 0.3667\n",
            "Epoch 7/100\n",
            "3/3 [==============================] - 0s 4ms/step - loss: 5.5070 - accuracy: 0.3667\n",
            "Epoch 8/100\n",
            "3/3 [==============================] - 0s 5ms/step - loss: 5.5070 - accuracy: 0.3667\n",
            "Epoch 9/100\n",
            "3/3 [==============================] - 0s 5ms/step - loss: 5.5070 - accuracy: 0.3667\n",
            "Epoch 10/100\n",
            "3/3 [==============================] - 0s 4ms/step - loss: 5.5070 - accuracy: 0.3667\n",
            "Epoch 11/100\n",
            "3/3 [==============================] - 0s 4ms/step - loss: 5.5070 - accuracy: 0.3667\n",
            "Epoch 12/100\n",
            "3/3 [==============================] - 0s 5ms/step - loss: 5.5070 - accuracy: 0.3667\n",
            "Epoch 13/100\n",
            "3/3 [==============================] - 0s 5ms/step - loss: 5.5070 - accuracy: 0.3667\n",
            "Epoch 14/100\n",
            "3/3 [==============================] - 0s 3ms/step - loss: 5.5070 - accuracy: 0.3667\n",
            "Epoch 15/100\n",
            "3/3 [==============================] - 0s 4ms/step - loss: 5.5070 - accuracy: 0.3667\n",
            "Epoch 16/100\n",
            "3/3 [==============================] - 0s 4ms/step - loss: 5.5070 - accuracy: 0.3667\n",
            "Epoch 17/100\n",
            "3/3 [==============================] - 0s 3ms/step - loss: 5.5070 - accuracy: 0.3667\n",
            "Epoch 18/100\n",
            "3/3 [==============================] - 0s 5ms/step - loss: 5.5070 - accuracy: 0.3667\n",
            "Epoch 19/100\n",
            "3/3 [==============================] - 0s 4ms/step - loss: 5.5070 - accuracy: 0.3667\n",
            "Epoch 20/100\n",
            "3/3 [==============================] - 0s 4ms/step - loss: 5.5070 - accuracy: 0.3667\n",
            "Epoch 21/100\n",
            "3/3 [==============================] - 0s 4ms/step - loss: 5.5070 - accuracy: 0.3667\n",
            "Epoch 22/100\n",
            "3/3 [==============================] - 0s 3ms/step - loss: 5.5070 - accuracy: 0.3667\n",
            "Epoch 23/100\n",
            "3/3 [==============================] - 0s 3ms/step - loss: 5.5070 - accuracy: 0.3667\n",
            "Epoch 24/100\n",
            "3/3 [==============================] - 0s 3ms/step - loss: 5.5070 - accuracy: 0.3667\n",
            "Epoch 25/100\n",
            "3/3 [==============================] - 0s 3ms/step - loss: 5.5070 - accuracy: 0.3667\n",
            "Epoch 26/100\n",
            "3/3 [==============================] - 0s 5ms/step - loss: 5.5070 - accuracy: 0.3667\n",
            "Epoch 27/100\n",
            "3/3 [==============================] - 0s 5ms/step - loss: 5.5070 - accuracy: 0.3667\n",
            "Epoch 28/100\n",
            "3/3 [==============================] - 0s 4ms/step - loss: 5.5070 - accuracy: 0.3667\n",
            "Epoch 29/100\n",
            "3/3 [==============================] - 0s 4ms/step - loss: 5.5070 - accuracy: 0.3667\n",
            "Epoch 30/100\n",
            "3/3 [==============================] - 0s 4ms/step - loss: 5.5070 - accuracy: 0.3667\n",
            "Epoch 31/100\n",
            "3/3 [==============================] - 0s 4ms/step - loss: 5.5070 - accuracy: 0.3667\n",
            "Epoch 32/100\n",
            "3/3 [==============================] - 0s 4ms/step - loss: 5.5070 - accuracy: 0.3667\n",
            "Epoch 33/100\n",
            "3/3 [==============================] - 0s 4ms/step - loss: 5.5070 - accuracy: 0.3667\n",
            "Epoch 34/100\n",
            "3/3 [==============================] - 0s 4ms/step - loss: 5.5070 - accuracy: 0.3667\n",
            "Epoch 35/100\n",
            "3/3 [==============================] - 0s 6ms/step - loss: 5.5070 - accuracy: 0.3667\n",
            "Epoch 36/100\n",
            "3/3 [==============================] - 0s 5ms/step - loss: 5.5070 - accuracy: 0.3667\n",
            "Epoch 37/100\n",
            "3/3 [==============================] - 0s 4ms/step - loss: 5.5070 - accuracy: 0.3667\n",
            "Epoch 38/100\n",
            "3/3 [==============================] - 0s 4ms/step - loss: 5.5070 - accuracy: 0.3667\n",
            "Epoch 39/100\n",
            "3/3 [==============================] - 0s 4ms/step - loss: 5.5070 - accuracy: 0.3667\n",
            "Epoch 40/100\n",
            "3/3 [==============================] - 0s 3ms/step - loss: 5.5070 - accuracy: 0.3667\n",
            "Epoch 41/100\n",
            "3/3 [==============================] - 0s 4ms/step - loss: 5.5070 - accuracy: 0.3667\n",
            "Epoch 42/100\n",
            "3/3 [==============================] - 0s 3ms/step - loss: 5.5070 - accuracy: 0.3667\n",
            "Epoch 43/100\n",
            "3/3 [==============================] - 0s 3ms/step - loss: 5.5070 - accuracy: 0.3667\n",
            "Epoch 44/100\n",
            "3/3 [==============================] - 0s 4ms/step - loss: 5.5070 - accuracy: 0.3667\n",
            "Epoch 45/100\n",
            "3/3 [==============================] - 0s 4ms/step - loss: 5.5070 - accuracy: 0.3667\n",
            "Epoch 46/100\n",
            "3/3 [==============================] - 0s 4ms/step - loss: 5.5070 - accuracy: 0.3667\n",
            "Epoch 47/100\n",
            "3/3 [==============================] - 0s 4ms/step - loss: 5.5070 - accuracy: 0.3667\n",
            "Epoch 48/100\n",
            "3/3 [==============================] - 0s 3ms/step - loss: 5.5070 - accuracy: 0.3667\n",
            "Epoch 49/100\n",
            "3/3 [==============================] - 0s 3ms/step - loss: 5.5070 - accuracy: 0.3667\n",
            "Epoch 50/100\n",
            "3/3 [==============================] - 0s 3ms/step - loss: 5.5070 - accuracy: 0.3667\n",
            "Epoch 51/100\n",
            "3/3 [==============================] - 0s 6ms/step - loss: 5.5070 - accuracy: 0.3667\n",
            "Epoch 52/100\n",
            "3/3 [==============================] - 0s 5ms/step - loss: 5.5070 - accuracy: 0.3667\n",
            "Epoch 53/100\n",
            "3/3 [==============================] - 0s 3ms/step - loss: 5.5070 - accuracy: 0.3667\n",
            "Epoch 54/100\n",
            "3/3 [==============================] - 0s 4ms/step - loss: 5.5070 - accuracy: 0.3667\n",
            "Epoch 55/100\n",
            "3/3 [==============================] - 0s 3ms/step - loss: 5.5070 - accuracy: 0.3667\n",
            "Epoch 56/100\n",
            "3/3 [==============================] - 0s 4ms/step - loss: 5.5070 - accuracy: 0.3667\n",
            "Epoch 57/100\n",
            "3/3 [==============================] - 0s 4ms/step - loss: 5.5070 - accuracy: 0.3667\n",
            "Epoch 58/100\n",
            "3/3 [==============================] - 0s 3ms/step - loss: 5.5070 - accuracy: 0.3667\n",
            "Epoch 59/100\n",
            "3/3 [==============================] - 0s 3ms/step - loss: 5.5070 - accuracy: 0.3667\n",
            "Epoch 60/100\n",
            "3/3 [==============================] - 0s 3ms/step - loss: 5.5070 - accuracy: 0.3667\n",
            "Epoch 61/100\n",
            "3/3 [==============================] - 0s 3ms/step - loss: 5.5070 - accuracy: 0.3667\n",
            "Epoch 62/100\n",
            "3/3 [==============================] - 0s 3ms/step - loss: 5.5070 - accuracy: 0.3667\n",
            "Epoch 63/100\n",
            "3/3 [==============================] - 0s 4ms/step - loss: 5.5070 - accuracy: 0.3667\n",
            "Epoch 64/100\n",
            "3/3 [==============================] - 0s 5ms/step - loss: 5.5070 - accuracy: 0.3667\n",
            "Epoch 65/100\n",
            "3/3 [==============================] - 0s 4ms/step - loss: 5.5070 - accuracy: 0.3667\n",
            "Epoch 66/100\n",
            "3/3 [==============================] - 0s 5ms/step - loss: 5.5070 - accuracy: 0.3667\n",
            "Epoch 67/100\n",
            "3/3 [==============================] - 0s 5ms/step - loss: 5.5070 - accuracy: 0.3667\n",
            "Epoch 68/100\n",
            "3/3 [==============================] - 0s 4ms/step - loss: 5.5070 - accuracy: 0.3667\n",
            "Epoch 69/100\n",
            "3/3 [==============================] - 0s 6ms/step - loss: 5.5070 - accuracy: 0.3667\n",
            "Epoch 70/100\n",
            "3/3 [==============================] - 0s 4ms/step - loss: 5.5070 - accuracy: 0.3667\n",
            "Epoch 71/100\n",
            "3/3 [==============================] - 0s 4ms/step - loss: 5.5070 - accuracy: 0.3667\n",
            "Epoch 72/100\n",
            "3/3 [==============================] - 0s 4ms/step - loss: 5.5070 - accuracy: 0.3667\n",
            "Epoch 73/100\n",
            "3/3 [==============================] - 0s 6ms/step - loss: 5.5070 - accuracy: 0.3667\n",
            "Epoch 74/100\n",
            "3/3 [==============================] - 0s 5ms/step - loss: 5.5070 - accuracy: 0.3667\n",
            "Epoch 75/100\n",
            "3/3 [==============================] - 0s 4ms/step - loss: 5.5070 - accuracy: 0.3667\n",
            "Epoch 76/100\n",
            "3/3 [==============================] - 0s 4ms/step - loss: 5.5070 - accuracy: 0.3667\n",
            "Epoch 77/100\n",
            "3/3 [==============================] - 0s 4ms/step - loss: 5.5070 - accuracy: 0.3667\n",
            "Epoch 78/100\n",
            "3/3 [==============================] - 0s 4ms/step - loss: 5.5070 - accuracy: 0.3667\n",
            "Epoch 79/100\n",
            "3/3 [==============================] - 0s 5ms/step - loss: 5.5070 - accuracy: 0.3667\n",
            "Epoch 80/100\n",
            "3/3 [==============================] - 0s 4ms/step - loss: 5.5070 - accuracy: 0.3667\n",
            "Epoch 81/100\n",
            "3/3 [==============================] - 0s 4ms/step - loss: 5.5070 - accuracy: 0.3667\n",
            "Epoch 82/100\n",
            "3/3 [==============================] - 0s 4ms/step - loss: 5.5070 - accuracy: 0.3667\n",
            "Epoch 83/100\n",
            "3/3 [==============================] - 0s 4ms/step - loss: 5.5070 - accuracy: 0.3667\n",
            "Epoch 84/100\n",
            "3/3 [==============================] - 0s 6ms/step - loss: 5.5070 - accuracy: 0.3667\n",
            "Epoch 85/100\n",
            "3/3 [==============================] - 0s 5ms/step - loss: 5.5070 - accuracy: 0.3667\n",
            "Epoch 86/100\n",
            "3/3 [==============================] - 0s 4ms/step - loss: 5.5070 - accuracy: 0.3667\n",
            "Epoch 87/100\n",
            "3/3 [==============================] - 0s 8ms/step - loss: 5.5070 - accuracy: 0.3667\n",
            "Epoch 88/100\n",
            "3/3 [==============================] - 0s 13ms/step - loss: 5.5070 - accuracy: 0.3667\n",
            "Epoch 89/100\n",
            "3/3 [==============================] - 0s 6ms/step - loss: 5.5070 - accuracy: 0.3667\n",
            "Epoch 90/100\n",
            "3/3 [==============================] - 0s 5ms/step - loss: 5.5070 - accuracy: 0.3667\n",
            "Epoch 91/100\n",
            "3/3 [==============================] - 0s 7ms/step - loss: 5.5070 - accuracy: 0.3667\n",
            "Epoch 92/100\n",
            "3/3 [==============================] - 0s 6ms/step - loss: 5.5070 - accuracy: 0.3667\n",
            "Epoch 93/100\n",
            "3/3 [==============================] - 0s 6ms/step - loss: 5.5070 - accuracy: 0.3667\n",
            "Epoch 94/100\n",
            "3/3 [==============================] - 0s 6ms/step - loss: 5.5070 - accuracy: 0.3667\n",
            "Epoch 95/100\n",
            "3/3 [==============================] - 0s 5ms/step - loss: 5.5070 - accuracy: 0.3667\n",
            "Epoch 96/100\n",
            "3/3 [==============================] - 0s 6ms/step - loss: 5.5070 - accuracy: 0.3667\n",
            "Epoch 97/100\n",
            "3/3 [==============================] - 0s 6ms/step - loss: 5.5070 - accuracy: 0.3667\n",
            "Epoch 98/100\n",
            "3/3 [==============================] - 0s 7ms/step - loss: 5.5070 - accuracy: 0.3667\n",
            "Epoch 99/100\n",
            "3/3 [==============================] - 0s 5ms/step - loss: 5.5070 - accuracy: 0.3667\n",
            "Epoch 100/100\n",
            "3/3 [==============================] - 0s 8ms/step - loss: 5.5070 - accuracy: 0.3667\n"
          ]
        },
        {
          "output_type": "execute_result",
          "data": {
            "text/plain": [
              "<keras.callbacks.History at 0x7f3811ac2650>"
            ]
          },
          "metadata": {},
          "execution_count": 31
        }
      ]
    },
    {
      "cell_type": "code",
      "source": [
        "loss, accuracy = model.evaluate(X_test, y_test, verbose=0)\n",
        "print('Test loss:', loss)\n",
        "print('Test accuracy:', accuracy)"
      ],
      "metadata": {
        "colab": {
          "base_uri": "https://localhost:8080/"
        },
        "id": "hENkqsA1IQcV",
        "outputId": "ae4594fe-5630-43f5-9e11-29f2d9ca45ec"
      },
      "execution_count": 32,
      "outputs": [
        {
          "output_type": "stream",
          "name": "stdout",
          "text": [
            "Test loss: 2.1490793228149414\n",
            "Test accuracy: 0.20000000298023224\n"
          ]
        }
      ]
    },
    {
      "cell_type": "code",
      "source": [
        "y_pred = model.predict(X_test)\n",
        "y_pred"
      ],
      "metadata": {
        "colab": {
          "base_uri": "https://localhost:8080/"
        },
        "id": "zCeNY6UQIW-e",
        "outputId": "08c9c3f6-5e43-4806-ccad-51053f84dda5"
      },
      "execution_count": 33,
      "outputs": [
        {
          "output_type": "execute_result",
          "data": {
            "text/plain": [
              "array([[ 0.10162406, -0.3498666 ,  0.24815995],\n",
              "       [-0.2152987 , -0.07695189,  0.22915688],\n",
              "       [-0.14965446, -0.06939793,  0.09490436],\n",
              "       [ 0.02374216, -0.35066772,  0.30138385],\n",
              "       [-0.17621416, -0.03369495,  0.10298071],\n",
              "       [ 0.22628416, -0.48364523,  0.27846602],\n",
              "       [-0.17923597, -0.02651193,  0.08896062],\n",
              "       [-0.11567868, -0.19617277,  0.26465827],\n",
              "       [-0.15706937, -0.16489285,  0.26549232],\n",
              "       [-0.15789397, -0.13094476,  0.23729965],\n",
              "       [ 0.10432341, -0.36729804,  0.2607637 ],\n",
              "       [-0.07732377, -0.21601218,  0.25583607],\n",
              "       [-0.03181774, -0.24421287,  0.24843037],\n",
              "       [-0.13169296, -0.17345953,  0.25568134],\n",
              "       [-0.01883916, -0.2554856 ,  0.24941918],\n",
              "       [-0.1398376 , -0.05923411,  0.09645239],\n",
              "       [-0.03439499, -0.23676619,  0.24402863],\n",
              "       [ 0.01098912, -0.25498226,  0.22842091],\n",
              "       [-0.21070427,  0.00410924,  0.09626284],\n",
              "       [-0.18578058, -0.03328779,  0.08792856],\n",
              "       [ 0.1065345 , -0.3447903 ,  0.2405591 ],\n",
              "       [ 0.06044795, -0.3026111 ,  0.23617634],\n",
              "       [-0.10889591, -0.09399265,  0.13189495],\n",
              "       [-0.16065791, -0.02610457,  0.09756337],\n",
              "       [-0.03427277, -0.24675113,  0.2522307 ],\n",
              "       [-0.12647216, -0.05211609,  0.06927569],\n",
              "       [-0.09930379, -0.11140442,  0.13121043],\n",
              "       [-0.11134873, -0.17711794,  0.24526899],\n",
              "       [-0.12373573, -0.11138672,  0.1969123 ],\n",
              "       [-0.16745298, -0.04345139,  0.11003551]], dtype=float32)"
            ]
          },
          "metadata": {},
          "execution_count": 33
        }
      ]
    },
    {
      "cell_type": "code",
      "source": [
        "actual = np.argmax(y_test,axis=1)\n",
        "predicted = np.argmax(y_pred,axis=1)\n",
        "print(f\"Actual: {actual}\")\n",
        "print(f\"Predicted: {predicted}\")"
      ],
      "metadata": {
        "colab": {
          "base_uri": "https://localhost:8080/"
        },
        "id": "TNKe8amNIg5W",
        "outputId": "84a7e8ee-9cab-4532-fc72-7dbd5e6f2c6b"
      },
      "execution_count": 34,
      "outputs": [
        {
          "output_type": "stream",
          "name": "stdout",
          "text": [
            "Actual: [2 1 0 2 0 2 0 1 1 1 2 1 1 1 1 0 1 1 0 0 2 1 0 0 2 0 0 1 1 0]\n",
            "Predicted: [2 2 2 2 2 2 2 2 2 2 2 2 2 2 2 2 2 2 2 2 2 2 2 2 2 2 2 2 2 2]\n"
          ]
        }
      ]
    }
  ]
}
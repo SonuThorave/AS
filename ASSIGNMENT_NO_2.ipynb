{
  "nbformat": 4,
  "nbformat_minor": 0,
  "metadata": {
    "colab": {
      "name": "ASSIGNMENT_NO_2.ipynb",
      "provenance": [],
      "collapsed_sections": [],
      "authorship_tag": "ABX9TyOPgngPn93h+byCROMGGCWH",
      "include_colab_link": true
    },
    "kernelspec": {
      "name": "python3",
      "display_name": "Python 3"
    },
    "language_info": {
      "name": "python"
    }
  },
  "cells": [
    {
      "cell_type": "markdown",
      "metadata": {
        "id": "view-in-github",
        "colab_type": "text"
      },
      "source": [
        "<a href=\"https://colab.research.google.com/github/SonuThorave/AS/blob/main/ASSIGNMENT_NO_2.ipynb\" target=\"_parent\"><img src=\"https://colab.research.google.com/assets/colab-badge.svg\" alt=\"Open In Colab\"/></a>"
      ]
    },
    {
      "cell_type": "code",
      "execution_count": 1,
      "metadata": {
        "colab": {
          "base_uri": "https://localhost:8080/"
        },
        "id": "qr6xiQHKzlMJ",
        "outputId": "e05c320d-4b05-4843-9559-24f4b3631d6c"
      },
      "outputs": [
        {
          "output_type": "stream",
          "name": "stdout",
          "text": [
            "9.0\n"
          ]
        }
      ],
      "source": [
        "# 1 implement mean square error using numpy\n",
        "import numpy as np\n",
        "a = np.array([1,2,3])\n",
        "b = np.array([4,5,6])\n",
        "sub = np.subtract(a,b)\n",
        "square= np.square(sub)\n",
        "mse = square.mean()\n",
        "print(mse)\n"
      ]
    },
    {
      "cell_type": "code",
      "source": [
        "# 2 implement mean square error without using numpy\n",
        "Y_true = [1,2,3]\n",
        "Y_pred = [4,5,6]\n",
        "from sklearn.metrics import mean_squared_error\n",
        "mean_squared_error(Y_true,Y_pred)\n"
      ],
      "metadata": {
        "colab": {
          "base_uri": "https://localhost:8080/"
        },
        "id": "oS0Lwjxrz7k2",
        "outputId": "d730af7f-d3d6-44cd-edfc-3b01f3b44ec8"
      },
      "execution_count": 2,
      "outputs": [
        {
          "output_type": "execute_result",
          "data": {
            "text/plain": [
              "9.0"
            ]
          },
          "metadata": {},
          "execution_count": 2
        }
      ]
    }
  ]
}
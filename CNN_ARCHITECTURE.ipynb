{
  "nbformat": 4,
  "nbformat_minor": 0,
  "metadata": {
    "colab": {
      "name": "CNN_ARCHITECTURE.ipynb",
      "provenance": [],
      "collapsed_sections": [],
      "authorship_tag": "ABX9TyOlyBtlEKPs2qZrwCGchOiL",
      "include_colab_link": true
    },
    "kernelspec": {
      "name": "python3",
      "display_name": "Python 3"
    },
    "language_info": {
      "name": "python"
    }
  },
  "cells": [
    {
      "cell_type": "markdown",
      "metadata": {
        "id": "view-in-github",
        "colab_type": "text"
      },
      "source": [
        "<a href=\"https://colab.research.google.com/github/SonuThorave/AS/blob/main/CNN_ARCHITECTURE.ipynb\" target=\"_parent\"><img src=\"https://colab.research.google.com/assets/colab-badge.svg\" alt=\"Open In Colab\"/></a>"
      ]
    },
    {
      "cell_type": "code",
      "execution_count": 1,
      "metadata": {
        "colab": {
          "base_uri": "https://localhost:8080/"
        },
        "id": "Wrr0waSa-I6D",
        "outputId": "eeeb9814-31ee-4f1e-8b83-a69fe433cd6b"
      },
      "outputs": [
        {
          "output_type": "stream",
          "name": "stdout",
          "text": [
            "Collecting keras.applications\n",
            "  Downloading Keras_Applications-1.0.8-py3-none-any.whl (50 kB)\n",
            "\u001b[?25l\r\u001b[K     |██████▌                         | 10 kB 22.1 MB/s eta 0:00:01\r\u001b[K     |█████████████                   | 20 kB 15.6 MB/s eta 0:00:01\r\u001b[K     |███████████████████▍            | 30 kB 10.9 MB/s eta 0:00:01\r\u001b[K     |█████████████████████████▉      | 40 kB 9.2 MB/s eta 0:00:01\r\u001b[K     |████████████████████████████████| 50 kB 3.2 MB/s \n",
            "\u001b[?25hRequirement already satisfied: h5py in /usr/local/lib/python3.7/dist-packages (from keras.applications) (3.1.0)\n",
            "Requirement already satisfied: numpy>=1.9.1 in /usr/local/lib/python3.7/dist-packages (from keras.applications) (1.21.5)\n",
            "Requirement already satisfied: cached-property in /usr/local/lib/python3.7/dist-packages (from h5py->keras.applications) (1.5.2)\n",
            "Installing collected packages: keras.applications\n",
            "Successfully installed keras.applications-1.0.8\n"
          ]
        }
      ],
      "source": [
        "!pip install keras.applications"
      ]
    },
    {
      "cell_type": "code",
      "source": [
        "from tensorflow.keras.applications import ResNet50\n",
        "from keras.preprocessing import image\n",
        "from  tensorflow.keras.applications.resnet50 import preprocess_input, decode_predictions\n",
        "from  tensorflow.keras.applications import vgg16, inception_v3, resnet50\n",
        "import numpy as np\n",
        "\n",
        "resnet_model = ResNet50(weights='imagenet')"
      ],
      "metadata": {
        "colab": {
          "base_uri": "https://localhost:8080/"
        },
        "id": "kf4qsiix-TsF",
        "outputId": "ea056091-7466-43a8-f68f-c5ba58ddd38c"
      },
      "execution_count": 2,
      "outputs": [
        {
          "output_type": "stream",
          "name": "stdout",
          "text": [
            "Downloading data from https://storage.googleapis.com/tensorflow/keras-applications/resnet/resnet50_weights_tf_dim_ordering_tf_kernels.h5\n",
            "102973440/102967424 [==============================] - 1s 0us/step\n",
            "102981632/102967424 [==============================] - 1s 0us/step\n"
          ]
        }
      ]
    },
    {
      "cell_type": "code",
      "source": [
        "from keras.preprocessing import image\n",
        "\n",
        "\n",
        "img_path = '/content/My_dog.jpg' \n",
        "\n",
        "img = image.load_img(img_path, target_size=(224, 224))\n",
        "x = image.img_to_array(img)\n",
        "print(x.shape)\n",
        "x = np.expand_dims(x, axis=0)\n",
        "print(x.shape)\n",
        "x = preprocess_input(x)\n",
        "\n",
        "preds = resnet_model.predict(x)\n",
        "# decode the results into a list of tuples (class, description, probability)\n",
        "# (one such list for each sample in the batch)\n",
        "print('Predicted:', decode_predictions(preds, top=5)[0])"
      ],
      "metadata": {
        "colab": {
          "base_uri": "https://localhost:8080/"
        },
        "id": "C5yuPv0y-U3R",
        "outputId": "3f2d2984-3832-40c9-f80d-e207ca29632e"
      },
      "execution_count": 4,
      "outputs": [
        {
          "output_type": "stream",
          "name": "stdout",
          "text": [
            "(224, 224, 3)\n",
            "(1, 224, 224, 3)\n",
            "Downloading data from https://storage.googleapis.com/download.tensorflow.org/data/imagenet_class_index.json\n",
            "40960/35363 [==================================] - 0s 0us/step\n",
            "49152/35363 [=========================================] - 0s 0us/step\n",
            "Predicted: [('n02111889', 'Samoyed', 0.9728372), ('n02114548', 'white_wolf', 0.007214731), ('n02109961', 'Eskimo_dog', 0.0049087945), ('n02112018', 'Pomeranian', 0.0045138644), ('n02112137', 'chow', 0.002322774)]\n"
          ]
        }
      ]
    },
    {
      "cell_type": "code",
      "source": [
        "from  tensorflow.keras.applications import VGG16,VGG19\n",
        "from keras.preprocessing import image\n",
        "import numpy as np\n",
        "vggModel=VGG16(weights='imagenet')\n",
        "vgg19Model=VGG19(weights='imagenet')"
      ],
      "metadata": {
        "colab": {
          "base_uri": "https://localhost:8080/"
        },
        "id": "SHKyJBUN-awg",
        "outputId": "ad91b1f0-8e88-42ca-e112-c16ad4e8868f"
      },
      "execution_count": 5,
      "outputs": [
        {
          "output_type": "stream",
          "name": "stdout",
          "text": [
            "Downloading data from https://storage.googleapis.com/tensorflow/keras-applications/vgg16/vgg16_weights_tf_dim_ordering_tf_kernels.h5\n",
            "553467904/553467096 [==============================] - 3s 0us/step\n",
            "553476096/553467096 [==============================] - 3s 0us/step\n",
            "Downloading data from https://storage.googleapis.com/tensorflow/keras-applications/vgg19/vgg19_weights_tf_dim_ordering_tf_kernels.h5\n",
            "574717952/574710816 [==============================] - 3s 0us/step\n",
            "574726144/574710816 [==============================] - 3s 0us/step\n"
          ]
        }
      ]
    },
    {
      "cell_type": "code",
      "source": [
        "path='/content/dog1.jpg'\n",
        "pimg=image.load_img(path,target_size=(224,224))\n",
        "iarray=image.img_to_array(pimg)\n",
        "print('image shape',iarray.shape)\n",
        "iexpand = np.expand_dims(iarray,axis=0)\n",
        "iexpand.shape"
      ],
      "metadata": {
        "colab": {
          "base_uri": "https://localhost:8080/"
        },
        "id": "qfLwBkrxAvvx",
        "outputId": "92525cd3-5982-4fc8-92b0-f5dfb3fcc240"
      },
      "execution_count": 6,
      "outputs": [
        {
          "output_type": "stream",
          "name": "stdout",
          "text": [
            "image shape (224, 224, 3)\n"
          ]
        },
        {
          "output_type": "execute_result",
          "data": {
            "text/plain": [
              "(1, 224, 224, 3)"
            ]
          },
          "metadata": {},
          "execution_count": 6
        }
      ]
    },
    {
      "cell_type": "code",
      "source": [
        "iexpand"
      ],
      "metadata": {
        "colab": {
          "base_uri": "https://localhost:8080/"
        },
        "id": "l_GeQr7wBCL_",
        "outputId": "bfe5af92-be84-4cb8-acde-316c00b6fcfa"
      },
      "execution_count": 7,
      "outputs": [
        {
          "output_type": "execute_result",
          "data": {
            "text/plain": [
              "array([[[[110., 150.,  90.],\n",
              "         [110., 150.,  90.],\n",
              "         [110., 149.,  92.],\n",
              "         ...,\n",
              "         [100., 142.,  78.],\n",
              "         [100., 142.,  78.],\n",
              "         [101., 143.,  80.]],\n",
              "\n",
              "        [[109., 149.,  89.],\n",
              "         [110., 150.,  90.],\n",
              "         [110., 149.,  92.],\n",
              "         ...,\n",
              "         [100., 142.,  78.],\n",
              "         [100., 142.,  78.],\n",
              "         [101., 143.,  80.]],\n",
              "\n",
              "        [[108., 148.,  88.],\n",
              "         [108., 148.,  88.],\n",
              "         [109., 148.,  91.],\n",
              "         ...,\n",
              "         [100., 142.,  79.],\n",
              "         [100., 142.,  79.],\n",
              "         [101., 143.,  80.]],\n",
              "\n",
              "        ...,\n",
              "\n",
              "        [[ 87.,  76.,  54.],\n",
              "         [ 89.,  77.,  55.],\n",
              "         [ 91.,  79.,  57.],\n",
              "         ...,\n",
              "         [  7.,  63.,  16.],\n",
              "         [ 37.,  93.,  46.],\n",
              "         [ 54., 101.,  49.]],\n",
              "\n",
              "        [[ 74.,  62.,  40.],\n",
              "         [ 74.,  62.,  40.],\n",
              "         [ 74.,  62.,  40.],\n",
              "         ...,\n",
              "         [  0.,  43.,   0.],\n",
              "         [  7.,  63.,  14.],\n",
              "         [ 26.,  70.,  19.]],\n",
              "\n",
              "        [[181., 179., 166.],\n",
              "         [181., 179., 166.],\n",
              "         [183., 179., 167.],\n",
              "         ...,\n",
              "         [151., 187., 151.],\n",
              "         [148., 189., 149.],\n",
              "         [155., 188., 145.]]]], dtype=float32)"
            ]
          },
          "metadata": {},
          "execution_count": 7
        }
      ]
    },
    {
      "cell_type": "code",
      "source": [
        "from tensorflow.keras.applications.vgg16 import preprocess_input\n",
        "preprocess_input(iexpand)"
      ],
      "metadata": {
        "colab": {
          "base_uri": "https://localhost:8080/"
        },
        "id": "MXPC1R5aBJ2P",
        "outputId": "1dadbe92-6a94-4717-9910-8f6ad51d994c"
      },
      "execution_count": 8,
      "outputs": [
        {
          "output_type": "execute_result",
          "data": {
            "text/plain": [
              "array([[[[ -13.939003,   33.221   ,  -13.68    ],\n",
              "         [ -13.939003,   33.221   ,  -13.68    ],\n",
              "         [ -11.939003,   32.221   ,  -13.68    ],\n",
              "         ...,\n",
              "         [ -25.939003,   25.221   ,  -23.68    ],\n",
              "         [ -25.939003,   25.221   ,  -23.68    ],\n",
              "         [ -23.939003,   26.221   ,  -22.68    ]],\n",
              "\n",
              "        [[ -14.939003,   32.221   ,  -14.68    ],\n",
              "         [ -13.939003,   33.221   ,  -13.68    ],\n",
              "         [ -11.939003,   32.221   ,  -13.68    ],\n",
              "         ...,\n",
              "         [ -25.939003,   25.221   ,  -23.68    ],\n",
              "         [ -25.939003,   25.221   ,  -23.68    ],\n",
              "         [ -23.939003,   26.221   ,  -22.68    ]],\n",
              "\n",
              "        [[ -15.939003,   31.221   ,  -15.68    ],\n",
              "         [ -15.939003,   31.221   ,  -15.68    ],\n",
              "         [ -12.939003,   31.221   ,  -14.68    ],\n",
              "         ...,\n",
              "         [ -24.939003,   25.221   ,  -23.68    ],\n",
              "         [ -24.939003,   25.221   ,  -23.68    ],\n",
              "         [ -23.939003,   26.221   ,  -22.68    ]],\n",
              "\n",
              "        ...,\n",
              "\n",
              "        [[ -49.939003,  -40.779   ,  -36.68    ],\n",
              "         [ -48.939003,  -39.779   ,  -34.68    ],\n",
              "         [ -46.939003,  -37.779   ,  -32.68    ],\n",
              "         ...,\n",
              "         [ -87.939   ,  -53.779   , -116.68    ],\n",
              "         [ -57.939003,  -23.779   ,  -86.68    ],\n",
              "         [ -54.939003,  -15.778999,  -69.68    ]],\n",
              "\n",
              "        [[ -63.939003,  -54.779   ,  -49.68    ],\n",
              "         [ -63.939003,  -54.779   ,  -49.68    ],\n",
              "         [ -63.939003,  -54.779   ,  -49.68    ],\n",
              "         ...,\n",
              "         [-103.939   ,  -73.779   , -123.68    ],\n",
              "         [ -89.939   ,  -53.779   , -116.68    ],\n",
              "         [ -84.939   ,  -46.779   ,  -97.68    ]],\n",
              "\n",
              "        [[  62.060997,   62.221   ,   57.32    ],\n",
              "         [  62.060997,   62.221   ,   57.32    ],\n",
              "         [  63.060997,   62.221   ,   59.32    ],\n",
              "         ...,\n",
              "         [  47.060997,   70.221   ,   27.32    ],\n",
              "         [  45.060997,   72.221   ,   24.32    ],\n",
              "         [  41.060997,   71.221   ,   31.32    ]]]], dtype=float32)"
            ]
          },
          "metadata": {},
          "execution_count": 8
        }
      ]
    },
    {
      "cell_type": "code",
      "source": [
        "pred=vggModel.predict(iexpand)\n",
        "pred19=vgg19Model.predict(iexpand)"
      ],
      "metadata": {
        "id": "T_1DCLhtBPr9"
      },
      "execution_count": 9,
      "outputs": []
    },
    {
      "cell_type": "code",
      "source": [
        "from  tensorflow.keras.applications.vgg16 import decode_predictions\n",
        "decode_predictions(pred,top=5)[0]"
      ],
      "metadata": {
        "colab": {
          "base_uri": "https://localhost:8080/"
        },
        "id": "PKXc56QoA6BS",
        "outputId": "9b75b9a0-0987-4fd2-c68a-a412f4967a2a"
      },
      "execution_count": 10,
      "outputs": [
        {
          "output_type": "execute_result",
          "data": {
            "text/plain": [
              "[('n02092339', 'Weimaraner', 0.45186558),\n",
              " ('n02099712', 'Labrador_retriever', 0.36913306),\n",
              " ('n04254680', 'soccer_ball', 0.03480843),\n",
              " ('n02089973', 'English_foxhound', 0.027544085),\n",
              " ('n04409515', 'tennis_ball', 0.017724605)]"
            ]
          },
          "metadata": {},
          "execution_count": 10
        }
      ]
    },
    {
      "cell_type": "code",
      "source": [
        " decode_predictions(pred19,top=5)[0]"
      ],
      "metadata": {
        "colab": {
          "base_uri": "https://localhost:8080/"
        },
        "id": "heWGRj1OBhhI",
        "outputId": "bf2db06f-0227-4cd6-da52-a693f24bf6b5"
      },
      "execution_count": 11,
      "outputs": [
        {
          "output_type": "execute_result",
          "data": {
            "text/plain": [
              "[('n02099712', 'Labrador_retriever', 0.46792758),\n",
              " ('n02092339', 'Weimaraner', 0.37453702),\n",
              " ('n02089973', 'English_foxhound', 0.021060405),\n",
              " ('n02100735', 'English_setter', 0.017959647),\n",
              " ('n02095889', 'Sealyham_terrier', 0.016900528)]"
            ]
          },
          "metadata": {},
          "execution_count": 11
        }
      ]
    },
    {
      "cell_type": "code",
      "source": [
        "from tensorflow.keras.applications import ResNet50,ResNet152\n",
        "import numpy as np\n",
        "from tensorflow.keras.preprocessing import image\n",
        "from tensorflow.keras.applications.resnet50 import decode_predictions,preprocess_input"
      ],
      "metadata": {
        "id": "sBezyxDFBl7N"
      },
      "execution_count": 16,
      "outputs": []
    },
    {
      "cell_type": "code",
      "source": [
        "from tensorflow.keras.applications.resnet_v2 import ResNet152V2\n",
        "rmodel=ResNet50(weights='imagenet')\n",
        "rmmodel152=ResNet152(weights='imagenet')"
      ],
      "metadata": {
        "colab": {
          "base_uri": "https://localhost:8080/"
        },
        "id": "B4IX7N4ZBtCa",
        "outputId": "340e07e3-5cb7-49c7-e52d-14b266743dce"
      },
      "execution_count": 21,
      "outputs": [
        {
          "output_type": "stream",
          "name": "stdout",
          "text": [
            "Downloading data from https://storage.googleapis.com/tensorflow/keras-applications/resnet/resnet152_weights_tf_dim_ordering_tf_kernels.h5\n",
            "242900992/242900224 [==============================] - 2s 0us/step\n",
            "242909184/242900224 [==============================] - 2s 0us/step\n"
          ]
        }
      ]
    },
    {
      "cell_type": "code",
      "source": [
        "file='/content/keyboard.jpg'\n",
        "dimg =image.load_img(file,target_size=(224,224))\n",
        "darray =image.img_to_array(dimg)\n",
        "dexpand=np.expand_dims(darray,axis=0)\n",
        "pv=rmodel.predict(dexpand)\n",
        "pv1=rmmodel152.predict(dexpand)"
      ],
      "metadata": {
        "colab": {
          "base_uri": "https://localhost:8080/"
        },
        "id": "4ZsIKG2qByHy",
        "outputId": "924e8740-add9-4df7-d914-b05f31ea26fc"
      },
      "execution_count": 22,
      "outputs": [
        {
          "output_type": "stream",
          "name": "stdout",
          "text": [
            "WARNING:tensorflow:5 out of the last 5 calls to <function Model.make_predict_function.<locals>.predict_function at 0x7f750608cb90> triggered tf.function retracing. Tracing is expensive and the excessive number of tracings could be due to (1) creating @tf.function repeatedly in a loop, (2) passing tensors with different shapes, (3) passing Python objects instead of tensors. For (1), please define your @tf.function outside of the loop. For (2), @tf.function has experimental_relax_shapes=True option that relaxes argument shapes that can avoid unnecessary retracing. For (3), please refer to https://www.tensorflow.org/guide/function#controlling_retracing and https://www.tensorflow.org/api_docs/python/tf/function for  more details.\n"
          ]
        }
      ]
    },
    {
      "cell_type": "code",
      "source": [
        "decode_predictions(pv)"
      ],
      "metadata": {
        "colab": {
          "base_uri": "https://localhost:8080/"
        },
        "id": "aZSuIeVRBrJU",
        "outputId": "983ebe07-5165-424e-8c24-54014d078649"
      },
      "execution_count": 23,
      "outputs": [
        {
          "output_type": "execute_result",
          "data": {
            "text/plain": [
              "[[('n03085013', 'computer_keyboard', 0.40785038),\n",
              "  ('n04264628', 'space_bar', 0.27075368),\n",
              "  ('n04505470', 'typewriter_keyboard', 0.10838863),\n",
              "  ('n04149813', 'scoreboard', 0.03556352),\n",
              "  ('n03832673', 'notebook', 0.024559982)]]"
            ]
          },
          "metadata": {},
          "execution_count": 23
        }
      ]
    },
    {
      "cell_type": "code",
      "source": [
        "from tensorflow.keras.applications.resnet_v2 import decode_predictions,preprocess_input\n",
        "decode_predictions(pv1)"
      ],
      "metadata": {
        "colab": {
          "base_uri": "https://localhost:8080/"
        },
        "id": "DEbqSzxgFl-T",
        "outputId": "6e6dab4f-de9e-4675-d34c-ee8d2ee3656c"
      },
      "execution_count": 24,
      "outputs": [
        {
          "output_type": "execute_result",
          "data": {
            "text/plain": [
              "[[('n04264628', 'space_bar', 0.38383946),\n",
              "  ('n03085013', 'computer_keyboard', 0.23066777),\n",
              "  ('n03095699', 'container_ship', 0.20186873),\n",
              "  ('n04505470', 'typewriter_keyboard', 0.12714325),\n",
              "  ('n03832673', 'notebook', 0.028112398)]]"
            ]
          },
          "metadata": {},
          "execution_count": 24
        }
      ]
    }
  ]
}
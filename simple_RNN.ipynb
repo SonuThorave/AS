{
  "nbformat": 4,
  "nbformat_minor": 0,
  "metadata": {
    "colab": {
      "name": "simple_RNN.ipynb",
      "provenance": [],
      "collapsed_sections": [],
      "authorship_tag": "ABX9TyM60Odc/xH8buxs9c4qNo4e",
      "include_colab_link": true
    },
    "kernelspec": {
      "name": "python3",
      "display_name": "Python 3"
    },
    "language_info": {
      "name": "python"
    }
  },
  "cells": [
    {
      "cell_type": "markdown",
      "metadata": {
        "id": "view-in-github",
        "colab_type": "text"
      },
      "source": [
        "<a href=\"https://colab.research.google.com/github/SonuThorave/AS/blob/main/simple_RNN.ipynb\" target=\"_parent\"><img src=\"https://colab.research.google.com/assets/colab-badge.svg\" alt=\"Open In Colab\"/></a>"
      ]
    },
    {
      "cell_type": "code",
      "execution_count": 1,
      "metadata": {
        "id": "0bI7w093ua3-"
      },
      "outputs": [],
      "source": [
        "import numpy as np\n",
        "from keras.models import Sequential \n",
        "from keras.layers import Dense,SimpleRNN"
      ]
    },
    {
      "cell_type": "code",
      "source": [
        "def rnnModel():\n",
        "  model=Sequential()\n",
        "  model.add(SimpleRNN(2,input_shape=(3,1),activation='relu'))\n",
        "  model.add(Dense(1,activation='relu'))\n",
        "  model.compile(loss='mean_squared_error',optimizer='adam')\n",
        "  return model"
      ],
      "metadata": {
        "id": "mn7LzJf8uumD"
      },
      "execution_count": 2,
      "outputs": []
    },
    {
      "cell_type": "code",
      "source": [
        "rnn_model=rnnModel()"
      ],
      "metadata": {
        "id": "9hJ3HCdMu7xl"
      },
      "execution_count": 3,
      "outputs": []
    },
    {
      "cell_type": "code",
      "source": [
        "rnn_model.weights"
      ],
      "metadata": {
        "colab": {
          "base_uri": "https://localhost:8080/"
        },
        "id": "dEDAH2Scu-5e",
        "outputId": "64c39f77-7c00-495e-8658-7c4b9810869c"
      },
      "execution_count": 4,
      "outputs": [
        {
          "output_type": "execute_result",
          "data": {
            "text/plain": [
              "[<tf.Variable 'simple_rnn/simple_rnn_cell/kernel:0' shape=(1, 2) dtype=float32, numpy=array([[ 0.22575366, -1.3666035 ]], dtype=float32)>,\n",
              " <tf.Variable 'simple_rnn/simple_rnn_cell/recurrent_kernel:0' shape=(2, 2) dtype=float32, numpy=\n",
              " array([[ 0.6301533,  0.7764709],\n",
              "        [-0.7764709,  0.6301532]], dtype=float32)>,\n",
              " <tf.Variable 'simple_rnn/simple_rnn_cell/bias:0' shape=(2,) dtype=float32, numpy=array([0., 0.], dtype=float32)>,\n",
              " <tf.Variable 'dense/kernel:0' shape=(2, 1) dtype=float32, numpy=\n",
              " array([[ 0.685454 ],\n",
              "        [-0.4595173]], dtype=float32)>,\n",
              " <tf.Variable 'dense/bias:0' shape=(1,) dtype=float32, numpy=array([0.], dtype=float32)>]"
            ]
          },
          "metadata": {},
          "execution_count": 4
        }
      ]
    },
    {
      "cell_type": "code",
      "source": [
        "wx =rnn_model.get_weights()[0]\n",
        "wh=rnn_model.get_weights()[1]\n",
        "bh=rnn_model.get_weights()[2]\n",
        "wy=rnn_model.get_weights()[3]\n",
        "by=rnn_model.get_weights()[4]"
      ],
      "metadata": {
        "id": "0jMVHURXvB3M"
      },
      "execution_count": 5,
      "outputs": []
    },
    {
      "cell_type": "code",
      "source": [
        "print(f'wx= {wx} , wy ={wy} , bh={bh}, wh={wh} , by = {by}')"
      ],
      "metadata": {
        "colab": {
          "base_uri": "https://localhost:8080/"
        },
        "id": "gWaGFMTDvE_B",
        "outputId": "b4f0b2d8-31a9-4ebc-f277-f011a7089185"
      },
      "execution_count": 6,
      "outputs": [
        {
          "output_type": "stream",
          "name": "stdout",
          "text": [
            "wx= [[ 0.22575366 -1.3666035 ]] , wy =[[ 0.685454 ]\n",
            " [-0.4595173]] , bh=[0. 0.], wh=[[ 0.6301533  0.7764709]\n",
            " [-0.7764709  0.6301532]] , by = [0.]\n"
          ]
        }
      ]
    },
    {
      "cell_type": "code",
      "source": [
        "x=np.array([1,2,3])\n",
        "x_input=np.reshape(x,[1,3,1])\n",
        "y_pred=rnn_model.predict(x_input)\n",
        "y_pred"
      ],
      "metadata": {
        "colab": {
          "base_uri": "https://localhost:8080/"
        },
        "id": "Z-c4KO5RvJ9U",
        "outputId": "88450f7d-d39f-4e71-c4df-41dd7a1fe768"
      },
      "execution_count": 7,
      "outputs": [
        {
          "output_type": "execute_result",
          "data": {
            "text/plain": [
              "array([[0.72070354]], dtype=float32)"
            ]
          },
          "metadata": {},
          "execution_count": 7
        }
      ]
    },
    {
      "cell_type": "code",
      "source": [
        "x"
      ],
      "metadata": {
        "colab": {
          "base_uri": "https://localhost:8080/"
        },
        "id": "WYhs7o_8vTKN",
        "outputId": "19309663-26ef-4873-bcc3-c8008f49414e"
      },
      "execution_count": 8,
      "outputs": [
        {
          "output_type": "execute_result",
          "data": {
            "text/plain": [
              "array([1, 2, 3])"
            ]
          },
          "metadata": {},
          "execution_count": 8
        }
      ]
    },
    {
      "cell_type": "code",
      "source": [
        "m=2\n",
        "h0=np.zeros(m)\n",
        "h1=np.dot(x[0],wx) +h0+bh\n",
        "h2=np.dot(x[1],wx)+np.dot(h1,wh)+bh\n",
        "h3=np.dot(x[2],wx) +np.dot(h2,wh)+bh\n",
        "output=np.dot(h3,wy)+by\n",
        "print(f'h1 = {h1} , h2= {h2} , h3={h3}')"
      ],
      "metadata": {
        "colab": {
          "base_uri": "https://localhost:8080/"
        },
        "id": "I70sPti7vNdM",
        "outputId": "cc6d57f7-61e1-491b-aabc-c2240df35d57"
      },
      "execution_count": 9,
      "outputs": [
        {
          "output_type": "stream",
          "name": "stdout",
          "text": [
            "h1 = [[ 0.22575366 -1.36660349]] , h2= [[ 1.65489459 -3.41908537]] , h3=[[ 4.37491857 -4.96938051]]\n"
          ]
        }
      ]
    },
    {
      "cell_type": "code",
      "source": [
        "print(f'Output  from our calculation : {output}')"
      ],
      "metadata": {
        "colab": {
          "base_uri": "https://localhost:8080/"
        },
        "id": "Sqac8fkkvWAi",
        "outputId": "8fa3d2cd-6e4a-4387-c5f4-ca1e30294113"
      },
      "execution_count": 10,
      "outputs": [
        {
          "output_type": "stream",
          "name": "stdout",
          "text": [
            "Output  from our calculation : [[5.2823218]]\n"
          ]
        }
      ]
    },
    {
      "cell_type": "code",
      "source": [
        "print(f'output from network : {y_pred}')"
      ],
      "metadata": {
        "colab": {
          "base_uri": "https://localhost:8080/"
        },
        "id": "RUbd0wRLvajf",
        "outputId": "b00a7fba-acf2-4580-efa2-1c8edbc45326"
      },
      "execution_count": 11,
      "outputs": [
        {
          "output_type": "stream",
          "name": "stdout",
          "text": [
            "output from network : [[0.72070354]]\n"
          ]
        }
      ]
    }
  ]
}